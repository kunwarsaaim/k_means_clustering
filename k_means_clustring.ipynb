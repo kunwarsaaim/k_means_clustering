{
 "cells": [
  {
   "cell_type": "code",
   "execution_count": 1,
   "metadata": {},
   "outputs": [],
   "source": [
    "import numpy as np\n",
    "import matplotlib.pyplot as plt\n",
    "%matplotlib inline"
   ]
  },
  {
   "cell_type": "code",
   "execution_count": 4,
   "metadata": {},
   "outputs": [
    {
     "data": {
      "text/plain": [
       "array([3, 4])"
      ]
     },
     "execution_count": 4,
     "metadata": {},
     "output_type": "execute_result"
    }
   ],
   "source": [
    "np.random.choice([1,2,3,4,5],2)  # chose 2 random number from list"
   ]
  },
  {
   "cell_type": "code",
   "execution_count": 39,
   "metadata": {},
   "outputs": [
    {
     "name": "stderr",
     "output_type": "stream",
     "text": [
      "/anaconda3/lib/python3.7/site-packages/ipykernel_launcher.py:5: RuntimeWarning: covariance is not symmetric positive-semidefinite.\n",
      "  \"\"\"\n",
      "/anaconda3/lib/python3.7/site-packages/ipykernel_launcher.py:7: RuntimeWarning: covariance is not symmetric positive-semidefinite.\n",
      "  import sys\n"
     ]
    },
    {
     "data": {
      "text/plain": [
       "(500, 2)"
      ]
     },
     "execution_count": 39,
     "metadata": {},
     "output_type": "execute_result"
    }
   ],
   "source": [
    "# Data generation\n",
    "m1, cov1 = [9,6],[[1,2],[2,1]] \n",
    "m2, cov2 = [6,12],[[2,-1],[-1,2]]\n",
    "m3, cov3 = [3,3], [[0,.5],[.5,0.5]]\n",
    "\n",
    "data1 = np.random.multivariate_normal(m1,cov1,250)\n",
    "data2 = np.random.multivariate_normal(m2,cov2,150)\n",
    "data3 = np.random.multivariate_normal(m3,cov3,100)\n",
    "\n",
    "X = np.vstack((data1,np.vstack((data2,data3))))\n",
    "np.random.shuffle(X)\n",
    "X.shape\n"
   ]
  },
  {
   "cell_type": "code",
   "execution_count": 40,
   "metadata": {},
   "outputs": [],
   "source": [
    "def kmeans(X,k,maxIters=1000):   #k number of cluster\n",
    "    m = X.shape[0]\n",
    "    centroids = X[np.random.choice(np.arange(m),k)]\n",
    "    \n",
    "    for i in range(maxIters):\n",
    "        C = []\n",
    "        for x in X:\n",
    "            distances = []\n",
    "            for c in centroids:\n",
    "                d = np.dot(x-c,x-c)\n",
    "                distances.append(d)\n",
    "            ci = np.argmin(distances)\n",
    "            C.append(ci)\n",
    "#         C = [np.argmin([np.dot(x-c,x-c) for c in centroids]) for x in X]\n",
    "        \n",
    "        C = np.asanyarray(C)\n",
    "        centroids = [X[C == ci].mean(axis=0) for ci in range(k)]\n",
    "    return np.asarray(centroids),C\n",
    "        \n",
    "    \n",
    "    "
   ]
  },
  {
   "cell_type": "code",
   "execution_count": 41,
   "metadata": {},
   "outputs": [
    {
     "name": "stdout",
     "output_type": "stream",
     "text": [
      "[[ 9.09388823  5.96851953]\n",
      " [ 3.29670323  3.08929141]\n",
      " [ 6.05555014 11.95825189]]\n",
      "(500,)\n"
     ]
    }
   ],
   "source": [
    "centroids,C = kmeans(X,k=3)\n",
    "print(centroids)\n",
    "print(C.shape)"
   ]
  },
  {
   "cell_type": "code",
   "execution_count": 42,
   "metadata": {},
   "outputs": [
    {
     "data": {
      "image/png": "[encoded data removed]",
      "text/plain": [
       "<Figure size 432x288 with 1 Axes>"
      ]
     },
     "metadata": {
      "needs_background": "light"
     },
     "output_type": "display_data"
    }
   ],
   "source": [
    "plt.scatter(X[:,0],X[:,-1])\n",
    "plt.plot(centroids[:,0],centroids[:,-1],'r*',markersize=20)\n",
    "plt.show()"
   ]
  },
  {
   "cell_type": "code",
   "execution_count": null,
   "metadata": {},
   "outputs": [],
   "source": []
  }
 ],
 "metadata": {
  "kernelspec": {
   "display_name": "Python 3",
   "language": "python",
   "name": "python3"
  },
  "language_info": {
   "codemirror_mode": {
    "name": "ipython",
    "version": 3
   },
   "file_extension": ".py",
   "mimetype": "text/x-python",
   "name": "python",
   "nbconvert_exporter": "python",
   "pygments_lexer": "ipython3",
   "version": "3.7.1"
  }
 },
 "nbformat": 4,
 "nbformat_minor": 2
}
